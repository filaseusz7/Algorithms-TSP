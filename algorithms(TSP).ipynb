{
 "cells": [
  {
   "attachments": {},
   "cell_type": "markdown",
   "metadata": {},
   "source": [
    "# Travelling Salesman Problem"
   ]
  },
  {
   "cell_type": "code",
   "execution_count": 1,
   "metadata": {},
   "outputs": [],
   "source": [
    "import pandas as pd\n",
    "import random\n",
    "import copy\n",
    "import math"
   ]
  },
  {
   "attachments": {},
   "cell_type": "markdown",
   "metadata": {},
   "source": [
    "## Simulated annealing"
   ]
  },
  {
   "attachments": {},
   "cell_type": "markdown",
   "metadata": {},
   "source": [
    "- function for drawing the initial solution"
   ]
  },
  {
   "cell_type": "code",
   "execution_count": 2,
   "metadata": {},
   "outputs": [],
   "source": [
    "def random_shuffle(len_data):\n",
    "    startList = list(range(1, len_data+1))\n",
    "    initialSolution = startList.copy()\n",
    "    random.shuffle(initialSolution)\n",
    "    return initialSolution"
   ]
  },
  {
   "attachments": {},
   "cell_type": "markdown",
   "metadata": {},
   "source": [
    "- a function that finds a new solution depending on the selected neighborhood"
   ]
  },
  {
   "cell_type": "code",
   "execution_count": 4,
   "metadata": {},
   "outputs": [],
   "source": [
    "def solution(initialSolution, newSolution, neighborhood, list):\n",
    "    twoRandomList = random.sample(range(len(list)), 2)\n",
    "\n",
    "    if (neighborhood == \"SWAP\"):\n",
    "        newSolution[twoRandomList[0]] = initialSolution[twoRandomList[1]]\n",
    "        newSolution[twoRandomList[1]] = initialSolution[twoRandomList[0]]\n",
    "    elif (neighborhood == \"INVERSION\"):\n",
    "        if(twoRandomList[0] < twoRandomList[1]):\n",
    "            newSolution[twoRandomList[0] : twoRandomList[1] + 1] = reversed(newSolution[twoRandomList[0] : twoRandomList[1] + 1])\n",
    "        else:\n",
    "            newSolution[twoRandomList[1] : twoRandomList[0] + 1] = reversed(newSolution[twoRandomList[1] : twoRandomList[0] + 1])\n",
    "    elif (neighborhood == \"INSERTION\"):\n",
    "        if(twoRandomList[0] < twoRandomList[1]):\n",
    "            newSolution.insert(twoRandomList[0]+1, newSolution.pop(twoRandomList[1]))\n",
    "        else:\n",
    "            newSolution.insert(twoRandomList[1]+1, newSolution.pop(twoRandomList[0]))\n",
    "    \n",
    "    return newSolution"
   ]
  },
  {
   "attachments": {},
   "cell_type": "markdown",
   "metadata": {},
   "source": [
    "- function summing up the route length"
   ]
  },
  {
   "cell_type": "code",
   "execution_count": 12,
   "metadata": {},
   "outputs": [],
   "source": [
    "def routeLengthSum(data, solution):\n",
    "    routeLength = []\n",
    "\n",
    "    #adding distances between cities to an empty list\n",
    "    for i in range(0, len(data)-1):\n",
    "        routeLength.append(data[solution[i]-1][solution[i+1]-1])\n",
    "\n",
    "    #adding distances between the last and the first city to the list\n",
    "    routeLength.append(data[solution[0]-1][solution[-1]-1])\n",
    "\n",
    "    return sum(routeLength)\n"
   ]
  },
  {
   "cell_type": "code",
   "execution_count": 13,
   "metadata": {},
   "outputs": [],
   "source": [
    "def simulatedAnnealing(data, alpha, t, trialsPerEpoch, tMin, neighborhood):\n",
    "    listt = data.values.tolist()\n",
    "    initialSolution = random_shuffle(len(listt))\n",
    "    summ = 499999\n",
    "    sumSum = 500000 #so that we can save the smallest sum that has rolled over while the algorithm is running\n",
    "    sumList = []\n",
    "    while t > tMin:\n",
    "        trial = 0\n",
    "        while trial < trialsPerEpoch:\n",
    "            newSolution = copy.deepcopy(initialSolution)\n",
    "            solution(initialSolution, newSolution, neighborhood, listt)\n",
    "            \n",
    "            newSum = routeLengthSum(listt, newSolution)\n",
    "            oldSum = routeLengthSum(listt, initialSolution)\n",
    "\n",
    "            #checking whether the new solution is better than the current one\n",
    "            if(newSum < oldSum):\n",
    "                initialSolution = newSolution\n",
    "                summ = newSum\n",
    "            else:\n",
    "                if(random.uniform(0, 1) < math.exp(-(newSum - oldSum)/t)):\n",
    "                    initialSolution = newSolution\n",
    "                    summ = newSum\n",
    "            trial += 1\n",
    "        t = t * alpha\n",
    "        #checking if the new smallest sum is less than the \"by now\" smallest sum\n",
    "        if(sumSum > summ):\n",
    "            sumSum = summ\n",
    "            sumList = newSolution\n",
    "    print(\"Sum:\", summ)\n",
    "    print(\"Order of citis:\", initialSolution)\n",
    "    if(sumSum < summ):\n",
    "        print(\"\\nPossible lower sum:\", sumSum)\n",
    "        print(\"Order of tasks:\", sumList)"
   ]
  },
  {
   "cell_type": "code",
   "execution_count": 9,
   "metadata": {},
   "outputs": [],
   "source": [
    "data48 = pd.read_excel(\"Dane_TSP_48.xlsx\", index_col=0)\n",
    "data76 = pd.read_excel(\"Dane_TSP_76.xlsx\", index_col=0)\n",
    "data127 = pd.read_excel(\"Dane_TSP_127.xlsx\", index_col=0)"
   ]
  },
  {
   "attachments": {},
   "cell_type": "markdown",
   "metadata": {},
   "source": [
    "- example of operation"
   ]
  },
  {
   "cell_type": "code",
   "execution_count": null,
   "metadata": {},
   "outputs": [],
   "source": [
    "data = [data48, data76, data127]\n",
    "\n",
    "for i in range(0,len(data)):\n",
    "    print(\"======== SET:\", i+1, \"========\")\n",
    "    n = 0\n",
    "    while n < 4:\n",
    "        print(\"\\nREP:\", n+1)    \n",
    "        simulatedAnnealing(data[i], 0.7, 500, 500, 10, \"SWAP\")\n",
    "        n += 1"
   ]
  }
 ],
 "metadata": {
  "kernelspec": {
   "display_name": "Python 3",
   "language": "python",
   "name": "python3"
  },
  "language_info": {
   "codemirror_mode": {
    "name": "ipython",
    "version": 3
   },
   "file_extension": ".py",
   "mimetype": "text/x-python",
   "name": "python",
   "nbconvert_exporter": "python",
   "pygments_lexer": "ipython3",
   "version": "3.9.0"
  },
  "orig_nbformat": 4
 },
 "nbformat": 4,
 "nbformat_minor": 2
}
